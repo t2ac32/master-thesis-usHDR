{
 "cells": [
  {
   "cell_type": "code",
   "execution_count": 1,
   "metadata": {},
   "outputs": [
    {
     "name": "stdout",
     "output_type": "stream",
     "text": [
      "in_ (15, 224, 224, 3)\n",
      "logits (15, 224, 224, 3)\n",
      "target (15, 224, 224, 3)\n"
     ]
    }
   ],
   "source": [
    "import numpy as np\n",
    "\n",
    "sx = 224\n",
    "sy = 224\n",
    "'''\n",
    "input y:      torch.Size([15, 224, 224, 3])\n",
    "target:       torch.Size([15, 224, 224, 3])\n",
    "y (logits):   torch.Size([15, 224, 224, 3])\n",
    "reduced_msk:  torch.Size([15, 224, 224])\n",
    "'''\n",
    "in_    = np.random.rand(15,224,224,3).astype(np.float32)\n",
    "logits = np.random.rand(15,224,224,3).astype(np.float32)\n",
    "target = np.random.rand(15,224,224,3).astype(np.float32)\n",
    "print('in_',in_.shape)\n",
    "print('logits',logits.shape)\n",
    "print('target',target.shape)\n",
    "\n",
    "thr = 0.05 # Threshold for blending\n"
   ]
  },
  {
   "cell_type": "code",
   "execution_count": 4,
   "metadata": {
    "scrolled": true
   },
   "outputs": [
    {
     "name": "stdout",
     "output_type": "stream",
     "text": [
      "torch.float32\n",
      "torch.float32\n",
      "torch.Size([15, 224, 224])\n",
      "torch.Size([15, 3, 224, 224])\n"
     ]
    },
    {
     "data": {
      "text/plain": [
       "\"\\nprint('reduced_msk: ', msk.shape)\\nth        = torch.max(0, (msk - 1.0 + thr)/thr)\\nmsk       = torch.min(oneT, th )\\nmsk       = msk.expand(1,-1,-1, -1)\\nmsk       = msk.permute(1,0,2,3)\\nprint('repeated_msk: ', msk.shape)    \\n\""
      ]
     },
     "execution_count": 4,
     "metadata": {},
     "output_type": "execute_result"
    }
   ],
   "source": [
    "import torch\n",
    "\n",
    "in_y  = torch.from_numpy(in_)\n",
    "y     = torch.from_numpy(logits) \n",
    "x   = torch.from_numpy(target)\n",
    "\n",
    "zero    = torch.FloatTensor([0.0]).to(dtype=torch.float32)\n",
    "thrTensor = torch.FloatTensor([0.05]).to(dtype=torch.float32)\n",
    "oneT      = torch.FloatTensor([1.0]).to(dtype=torch.float32)\n",
    "\n",
    "msk   = torch.max(in_y ,3)[0]\n",
    "print(msk.dtype)\n",
    "add   = torch.add(torch.sub(msk, oneT), thr)\n",
    "print(add.dtype)\n",
    "div   = torch.div(add, 0.05)\n",
    "print(div.shape)\n",
    "th_op = torch.max(zero, div)\n",
    "#print(th_op)\n",
    "msk = torch.min(oneT, th_op )\n",
    "msk = msk.expand(1,-1,-1, -1)\n",
    "msk = msk.permute(1,0,2,3)\n",
    "msk = msk.repeat(1,3,1,1)\n",
    "print(msk.shape)\n",
    "\n",
    "'''\n",
    "print('reduced_msk: ', msk.shape)\n",
    "th        = torch.max(0, (msk - 1.0 + thr)/thr)\n",
    "msk       = torch.min(oneT, th )\n",
    "msk       = msk.expand(1,-1,-1, -1)\n",
    "msk       = msk.permute(1,0,2,3)\n",
    "print('repeated_msk: ', msk.shape)    \n",
    "'''\n"
   ]
  },
  {
   "cell_type": "code",
   "execution_count": 4,
   "metadata": {},
   "outputs": [
    {
     "name": "stdout",
     "output_type": "stream",
     "text": [
      "Tensor(\"Max_1:0\", shape=(15, 224, 224), dtype=float32)\n",
      "Tensor(\"Tile_1:0\", shape=(15, 224, 224, 3), dtype=float32)\n",
      "(15, 224, 224, 3)\n"
     ]
    }
   ],
   "source": [
    "import tensorflow as tf\n",
    "import tensorboard\n",
    "\n",
    "y_  = in_\n",
    "y   = logits \n",
    "x   = target\n",
    "\n",
    "msk = tf.reduce_max(y_, reduction_indices=[3])\n",
    "print(msk)\n",
    "msk = tf.minimum(1.0, tf.maximum(0.0, msk-1.0+thr)/thr)\n",
    "msk = tf.reshape(msk, [-1, sy, sx, 1])\n",
    "msk = tf.tile(msk, [1,1,1,3])\n",
    "print(msk)\n",
    "\n",
    "print(msk.shape)"
   ]
  },
  {
   "cell_type": "code",
   "execution_count": null,
   "metadata": {},
   "outputs": [],
   "source": []
  }
 ],
 "metadata": {
  "kernelspec": {
   "display_name": "Python (torch)",
   "language": "python",
   "name": "torch"
  },
  "language_info": {
   "codemirror_mode": {
    "name": "ipython",
    "version": 3
   },
   "file_extension": ".py",
   "mimetype": "text/x-python",
   "name": "python",
   "nbconvert_exporter": "python",
   "pygments_lexer": "ipython3",
   "version": "3.6.9"
  }
 },
 "nbformat": 4,
 "nbformat_minor": 2
}
